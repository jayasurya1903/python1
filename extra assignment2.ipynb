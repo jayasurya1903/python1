{
 "cells": [
  {
   "cell_type": "code",
   "execution_count": null,
   "id": "119728f6-d1b5-4f60-b749-61fbd9a5e192",
   "metadata": {},
   "outputs": [],
   "source": []
  }
 ],
 "metadata": {
  "kernelspec": {
   "display_name": "",
   "name": ""
  },
  "language_info": {
   "name": ""
  }
 },
 "nbformat": 4,
 "nbformat_minor": 5
}
