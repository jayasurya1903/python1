{
 "cells": [
  {
   "cell_type": "code",
   "execution_count": 1,
   "id": "787d8a2d-8ca7-458f-90c7-168b921e715d",
   "metadata": {},
   "outputs": [],
   "source": [
    "# Welcome to Assignment-1"
   ]
  },
  {
   "cell_type": "code",
   "execution_count": 2,
   "id": "c4c90800-b9f9-4d47-8ed4-843ddd4831e1",
   "metadata": {},
   "outputs": [
    {
     "name": "stdout",
     "output_type": "stream",
     "text": [
      "Welcome to Assignment-1\n"
     ]
    }
   ],
   "source": [
    "print(\"Welcome to Assignment-1\")"
   ]
  },
  {
   "cell_type": "code",
   "execution_count": 3,
   "id": "0859c6c2-b2c6-4e36-9bab-ad1d1abb9eee",
   "metadata": {},
   "outputs": [],
   "source": [
    " #Num1= 10\n",
    " #Num2= 30\n",
    " #Add= 40"
   ]
  },
  {
   "cell_type": "code",
   "execution_count": 7,
   "id": "beae716c-0fa1-4e62-a69f-a68621b98ce1",
   "metadata": {},
   "outputs": [
    {
     "name": "stdout",
     "output_type": "stream",
     "text": [
      "Num1= 10\n",
      "Num1= 30\n",
      "Add = 40\n"
     ]
    }
   ],
   "source": [
    "print(\"Num1= 10\")\n",
    "print(\"Num1= 30\")\n",
    "num1=10\n",
    "num2=30\n",
    "Add=num1+num2\n",
    "print(\"Add =\",Add)"
   ]
  },
  {
   "cell_type": "code",
   "execution_count": 8,
   "id": "f22e83bf-77d8-40df-bd3a-95ec949f85d2",
   "metadata": {},
   "outputs": [],
   "source": [
    "#Body Mass Index\n",
    "# Enter the BMI Index:34\n",
    "#Very Overweight"
   ]
  },
  {
   "cell_type": "code",
   "execution_count": 20,
   "id": "010707e2-f8b9-4afc-94cd-79e61fdf11ca",
   "metadata": {},
   "outputs": [
    {
     "name": "stdin",
     "output_type": "stream",
     "text": [
      "Enter the BMI Index: 34\n"
     ]
    },
    {
     "name": "stdout",
     "output_type": "stream",
     "text": [
      "Very Overweight\n"
     ]
    }
   ],
   "source": [
    "bmi= float(input(\"Enter the BMI Index:\"))\n",
    "if(bmi<18.5):\n",
    "    print(\"under weight\")\n",
    "elif( 18.8<= bmi <= 24.9):\n",
    "    print(\"normal weight\")\n",
    "elif( 25<= bmi <= 29.9):\n",
    "    print(\"over weight\")\n",
    "else:\n",
    "    print(\"Very Overweight\")\n",
    "    \n",
    "    \n"
   ]
  }
 ],
 "metadata": {
  "kernelspec": {
   "display_name": "Python 3 (ipykernel)",
   "language": "python",
   "name": "python3"
  },
  "language_info": {
   "codemirror_mode": {
    "name": "ipython",
    "version": 3
   },
   "file_extension": ".py",
   "mimetype": "text/x-python",
   "name": "python",
   "nbconvert_exporter": "python",
   "pygments_lexer": "ipython3",
   "version": "3.13.5"
  }
 },
 "nbformat": 4,
 "nbformat_minor": 5
}
