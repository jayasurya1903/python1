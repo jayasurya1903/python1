{
 "cells": [
  {
   "cell_type": "code",
   "execution_count": 2,
   "id": "19706774-4e1a-4c05-a6af-f95e5e3fd1a6",
   "metadata": {},
   "outputs": [],
   "source": [
    "#print Statement "
   ]
  },
  {
   "cell_type": "code",
   "execution_count": 3,
   "id": "4f212101-955b-4da5-b03b-579ddcdc4982",
   "metadata": {},
   "outputs": [
    {
     "name": "stdout",
     "output_type": "stream",
     "text": [
      "HOPE AI\n"
     ]
    }
   ],
   "source": [
    "print('HOPE AI')"
   ]
  },
  {
   "cell_type": "code",
   "execution_count": 4,
   "id": "89a265ff-9920-4515-b317-c86e272a0d12",
   "metadata": {},
   "outputs": [],
   "source": [
    " # Buy input  "
   ]
  },
  {
   "cell_type": "code",
   "execution_count": 6,
   "id": "dfe30331-ef61-4e16-842e-b9c4ed6e60e9",
   "metadata": {},
   "outputs": [
    {
     "name": "stdin",
     "output_type": "stream",
     "text": [
      "Enter your institute name? : HOPE AI\n"
     ]
    }
   ],
   "source": [
    "name= str(input(\"Enter your institute name? :\" ))"
   ]
  },
  {
   "cell_type": "code",
   "execution_count": 7,
   "id": "3c377fc6-f325-4f5c-b3d1-067ffcf7ba0a",
   "metadata": {},
   "outputs": [],
   "source": [
    "#Buy inputs"
   ]
  },
  {
   "cell_type": "code",
   "execution_count": 8,
   "id": "ff00f499-1476-4c6c-98ed-1cc35bb4335e",
   "metadata": {},
   "outputs": [
    {
     "name": "stdin",
     "output_type": "stream",
     "text": [
      "Enter your name : Raj\n",
      "Enter your age : 15\n",
      "Enter your school name : guru school\n",
      "Enter your degree : B.E CBSE\n"
     ]
    }
   ],
   "source": [
    "name1= str(input(\"Enter your name :\" ))\n",
    "name2= int(input(\"Enter your age :\" ))\n",
    "name3= str(input(\"Enter your school name :\" ))\n",
    "name4= str(input(\"Enter your degree :\" ))"
   ]
  },
  {
   "cell_type": "code",
   "execution_count": 9,
   "id": "d1972ed3-35f3-4da7-870d-2badb6da2cbc",
   "metadata": {},
   "outputs": [],
   "source": [
    "#Addition "
   ]
  },
  {
   "cell_type": "code",
   "execution_count": 14,
   "id": "30198d85-6910-4830-be1e-7bc59da9131b",
   "metadata": {},
   "outputs": [
    {
     "name": "stdout",
     "output_type": "stream",
     "text": [
      "a= 43\n",
      "b= 34\n",
      "add = 77\n"
     ]
    }
   ],
   "source": [
    "print(\"a= 43\")\n",
    "print(\"b= 34\")\n",
    "a=43 \n",
    "b=34\n",
    "c=a+b\n",
    "print(\"add =\",c)"
   ]
  },
  {
   "cell_type": "code",
   "execution_count": 15,
   "id": "99e91e2e-630f-4044-b3fc-bf9d56c1a691",
   "metadata": {},
   "outputs": [],
   "source": [
    "#Subtraction "
   ]
  },
  {
   "cell_type": "code",
   "execution_count": 16,
   "id": "87b99b60-d3de-44d8-9739-db38cd2ce684",
   "metadata": {},
   "outputs": [
    {
     "name": "stdout",
     "output_type": "stream",
     "text": [
      "a= 43\n",
      "b= 34\n",
      "sub = 9\n"
     ]
    }
   ],
   "source": [
    "print(\"a= 43\")\n",
    "print(\"b= 34\")\n",
    "a=43 \n",
    "b=34\n",
    "c=a-b\n",
    "print(\"sub =\",c)"
   ]
  },
  {
   "cell_type": "code",
   "execution_count": 17,
   "id": "ef473bcc-3714-466a-b6db-eb36f43e77bf",
   "metadata": {},
   "outputs": [],
   "source": [
    "#Multiplication"
   ]
  },
  {
   "cell_type": "code",
   "execution_count": 20,
   "id": "682e4c60-4333-4a1c-8ecd-a4398f94cffd",
   "metadata": {},
   "outputs": [
    {
     "name": "stdout",
     "output_type": "stream",
     "text": [
      "a= 63\n",
      "b= 97\n",
      "Mul = 6111\n"
     ]
    }
   ],
   "source": [
    "print(\"a= 63\")\n",
    "print(\"b= 97\")\n",
    "a=63 \n",
    "b=97\n",
    "c=a*b\n",
    "print(\"Mul =\",c)"
   ]
  },
  {
   "cell_type": "code",
   "execution_count": 21,
   "id": "ce920880-9231-4e9c-9e8e-7176b49c05b7",
   "metadata": {},
   "outputs": [],
   "source": [
    "#Division "
   ]
  },
  {
   "cell_type": "code",
   "execution_count": 23,
   "id": "2552b062-d36b-4f59-8b6e-13877e6184d8",
   "metadata": {},
   "outputs": [
    {
     "name": "stdout",
     "output_type": "stream",
     "text": [
      "a= 76\n",
      "b= 31\n",
      "Float Div= 2.4516129032258065\n"
     ]
    }
   ],
   "source": [
    "print(\"a= 76\")\n",
    "print(\"b= 31\")\n",
    "a=76\n",
    "b=31\n",
    "c=a/b\n",
    "print(\"Float Div=\",c)"
   ]
  },
  {
   "cell_type": "code",
   "execution_count": 24,
   "id": "8a23c931-e638-4ad7-95ef-539c26a09602",
   "metadata": {},
   "outputs": [],
   "source": [
    "#Floor division "
   ]
  },
  {
   "cell_type": "code",
   "execution_count": 26,
   "id": "3dfd172a-5011-44d2-a5e5-9975903ea8ce",
   "metadata": {},
   "outputs": [
    {
     "name": "stdout",
     "output_type": "stream",
     "text": [
      "a= 76\n",
      "b= 31\n",
      "Floor Div= 2\n"
     ]
    }
   ],
   "source": [
    "print(\"a= 76\")\n",
    "print(\"b= 31\")\n",
    "a=76\n",
    "b=31\n",
    "c=a//b\n",
    "print(\"Floor Div=\",c)"
   ]
  },
  {
   "cell_type": "code",
   "execution_count": 27,
   "id": "e60f6768-26e2-4f76-9f2c-6d09cae432ae",
   "metadata": {},
   "outputs": [],
   "source": [
    "#Modulo "
   ]
  },
  {
   "cell_type": "code",
   "execution_count": 28,
   "id": "a4bb0e9d-2bad-4129-90d7-47f3d8b213f4",
   "metadata": {},
   "outputs": [
    {
     "name": "stdout",
     "output_type": "stream",
     "text": [
      "a= 76\n",
      "b= 31\n",
      "Modulo= 14\n"
     ]
    }
   ],
   "source": [
    "print(\"a= 76\")\n",
    "print(\"b= 31\")\n",
    "a=76\n",
    "b=31\n",
    "c=a%b\n",
    "print(\"Modulo=\",c)"
   ]
  },
  {
   "cell_type": "code",
   "execution_count": 29,
   "id": "d1874017-c6f6-434b-9579-45aef19649b1",
   "metadata": {},
   "outputs": [],
   "source": [
    "#Power "
   ]
  },
  {
   "cell_type": "code",
   "execution_count": 32,
   "id": "c9bac4db-a08d-45da-933d-6185a98a8dcd",
   "metadata": {},
   "outputs": [
    {
     "name": "stdout",
     "output_type": "stream",
     "text": [
      "a= 4\n",
      "b= 4\n",
      "power= 256\n"
     ]
    }
   ],
   "source": [
    "print(\"a= 4\")\n",
    "print(\"b= 4\")\n",
    "a=4\n",
    "b=4\n",
    "c=a**b\n",
    "print(\"power=\",c)"
   ]
  },
  {
   "cell_type": "code",
   "execution_count": null,
   "id": "5b74a971-2c8b-43ee-a9b4-922d8baf5e84",
   "metadata": {},
   "outputs": [],
   "source": []
  }
 ],
 "metadata": {
  "kernelspec": {
   "display_name": "Python 3 (ipykernel)",
   "language": "python",
   "name": "python3"
  },
  "language_info": {
   "codemirror_mode": {
    "name": "ipython",
    "version": 3
   },
   "file_extension": ".py",
   "mimetype": "text/x-python",
   "name": "python",
   "nbconvert_exporter": "python",
   "pygments_lexer": "ipython3",
   "version": "3.13.5"
  }
 },
 "nbformat": 4,
 "nbformat_minor": 5
}
