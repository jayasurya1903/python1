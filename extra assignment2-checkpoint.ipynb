{
 "cells": [
  {
   "cell_type": "code",
   "execution_count": 2,
   "id": "4bc0470b-8dd2-4efd-8fab-5a2c521818ac",
   "metadata": {},
   "outputs": [],
   "source": [
    "# print 0 to 20 by using range "
   ]
  },
  {
   "cell_type": "code",
   "execution_count": 3,
   "id": "be5cec56-2daa-4e21-878d-9bb3008f82b9",
   "metadata": {},
   "outputs": [
    {
     "name": "stdout",
     "output_type": "stream",
     "text": [
      "0\n",
      "1\n",
      "2\n",
      "3\n",
      "4\n",
      "5\n",
      "6\n",
      "7\n",
      "8\n",
      "9\n",
      "10\n",
      "11\n",
      "12\n",
      "13\n",
      "14\n",
      "15\n",
      "16\n",
      "17\n",
      "18\n",
      "19\n"
     ]
    }
   ],
   "source": [
    "for num in range(0,20):\n",
    "    print(num)"
   ]
  },
  {
   "cell_type": "code",
   "execution_count": 4,
   "id": "60229d20-9261-4b23-b19a-f0083199425f",
   "metadata": {},
   "outputs": [],
   "source": [
    " # print range 10 to 20 "
   ]
  },
  {
   "cell_type": "code",
   "execution_count": 5,
   "id": "91808f92-e18f-4740-a768-9b56f2fde366",
   "metadata": {},
   "outputs": [
    {
     "name": "stdout",
     "output_type": "stream",
     "text": [
      "10\n",
      "11\n",
      "12\n",
      "13\n",
      "14\n",
      "15\n",
      "16\n",
      "17\n",
      "18\n",
      "19\n"
     ]
    }
   ],
   "source": [
    "for num in range(10,20):\n",
    "    print(num)"
   ]
  },
  {
   "cell_type": "code",
   "execution_count": 6,
   "id": "d1155fc5-69bc-4f1e-bfcb-fb439ee69872",
   "metadata": {},
   "outputs": [],
   "source": [
    " # Print number of items in the list by using 'len'"
   ]
  },
  {
   "cell_type": "code",
   "execution_count": 19,
   "id": "292008f3-8bd9-4e1e-9f32-9b583e569a8f",
   "metadata": {},
   "outputs": [
    {
     "name": "stdout",
     "output_type": "stream",
     "text": [
      "[10, 20, 14, 55, 43, 87, 76] \n",
      "Number of item in the List2: 7\n"
     ]
    }
   ],
   "source": [
    "print(\"[10, 20, 14, 55, 43, 87, 76] \")\n",
    "list2 = [10, 20, 14, 55, 43, 87, 76]\n",
    "print(\"Number of item in the List2:\",len(list2))\n",
    "      "
   ]
  }
 ],
 "metadata": {
  "kernelspec": {
   "display_name": "Python 3 (ipykernel)",
   "language": "python",
   "name": "python3"
  },
  "language_info": {
   "codemirror_mode": {
    "name": "ipython",
    "version": 3
   },
   "file_extension": ".py",
   "mimetype": "text/x-python",
   "name": "python",
   "nbconvert_exporter": "python",
   "pygments_lexer": "ipython3",
   "version": "3.13.5"
  }
 },
 "nbformat": 4,
 "nbformat_minor": 5
}
