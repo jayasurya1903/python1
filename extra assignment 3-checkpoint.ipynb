{
 "cells": [
  {
   "cell_type": "code",
   "execution_count": 1,
   "id": "886f36e1-ed38-479a-88d8-c425db5d5c2e",
   "metadata": {},
   "outputs": [],
   "source": [
    " # print 'CORRECT' if i == 10 "
   ]
  },
  {
   "cell_type": "code",
   "execution_count": 4,
   "id": "ee0b5f85-132e-4543-be56-ca62051e3301",
   "metadata": {},
   "outputs": [
    {
     "name": "stdin",
     "output_type": "stream",
     "text": [
      "value:  10\n"
     ]
    },
    {
     "name": "stdout",
     "output_type": "stream",
     "text": [
      "correct\n"
     ]
    }
   ],
   "source": [
    "i = int(input(\"value: \" ))\n",
    "if(i == 10):\n",
    "    print(\"correct\")\n",
    "          "
   ]
  },
  {
   "cell_type": "code",
   "execution_count": 5,
   "id": "3db393a9-9d2c-4b96-80d2-0d71696b79cd",
   "metadata": {},
   "outputs": [],
   "source": [
    "# Check the password, using if and else"
   ]
  },
  {
   "cell_type": "code",
   "execution_count": 10,
   "id": "914d0b40-276a-4d15-901b-0f77081085de",
   "metadata": {},
   "outputs": [
    {
     "name": "stdin",
     "output_type": "stream",
     "text": [
      "enter the password:  HOPE@123\n"
     ]
    },
    {
     "name": "stdout",
     "output_type": "stream",
     "text": [
      "your password is correct\n"
     ]
    }
   ],
   "source": [
    "num1 = (input(\"enter the password: \" ))\n",
    "if num1 == \"HOPE@123\":\n",
    "    print(\"your password is correct\")\n",
    "else:\n",
    "    print(\"not correct\")\n",
    "          "
   ]
  },
  {
   "cell_type": "code",
   "execution_count": 11,
   "id": "9c9f1184-1f78-4f35-8faf-4275b856e2dd",
   "metadata": {},
   "outputs": [],
   "source": [
    " # Catagory the people by their age like children, adult, citizen, senior citizen..."
   ]
  },
  {
   "cell_type": "code",
   "execution_count": 18,
   "id": "485e03af-b3cf-48b5-b5a0-65f13b28f2c7",
   "metadata": {},
   "outputs": [
    {
     "name": "stdin",
     "output_type": "stream",
     "text": [
      "age:  20\n"
     ]
    },
    {
     "name": "stdout",
     "output_type": "stream",
     "text": [
      "Adult\n"
     ]
    }
   ],
   "source": [
    "i= int(input(\"age: \"))\n",
    "if (i == 20):\n",
    "    print(\"Adult\")\n",
    "elif ( i<20):\n",
    "    print(\"children\")\n",
    "elif ( 20<age<60):\n",
    "    print(\"citizen\")\n",
    "else:\n",
    "    print(\"senior citizen\")"
   ]
  },
  {
   "cell_type": "code",
   "execution_count": 19,
   "id": "5932ae38-3213-4eb6-b285-d0992e571dbf",
   "metadata": {},
   "outputs": [],
   "source": [
    " # Find whether given number is positive or negative "
   ]
  },
  {
   "cell_type": "code",
   "execution_count": 28,
   "id": "2c14f0d7-db63-4ae4-b257-6dabbe9c9805",
   "metadata": {},
   "outputs": [
    {
     "name": "stdin",
     "output_type": "stream",
     "text": [
      "Enter any number:  1\n"
     ]
    },
    {
     "name": "stdout",
     "output_type": "stream",
     "text": [
      "positive\n"
     ]
    }
   ],
   "source": [
    "i= int(input(\"Enter any number: \"))\n",
    "if (i<0):\n",
    "    print(\"negative\")\n",
    "elif (i>=0):\n",
    "    print(\"positive\")\n"
   ]
  },
  {
   "cell_type": "code",
   "execution_count": 29,
   "id": "38642d6b-88d1-469f-a026-fc90850356db",
   "metadata": {},
   "outputs": [],
   "source": [
    " # Check whether the given number is divisible by 5"
   ]
  },
  {
   "cell_type": "code",
   "execution_count": 32,
   "id": "955848ad-78ca-413b-b3a1-7ceb7297bdc7",
   "metadata": {},
   "outputs": [
    {
     "name": "stdin",
     "output_type": "stream",
     "text": [
      "Enter a number to check:  22\n"
     ]
    },
    {
     "name": "stdout",
     "output_type": "stream",
     "text": [
      "no is not divisible by 5\n"
     ]
    }
   ],
   "source": [
    "i= int(input(\"Enter a number to check: \"))\n",
    "if (i%5==0):\n",
    "    print(\"divisible by 5\")\n",
    "else:\n",
    "    print(\"no is not divisible by 5\")"
   ]
  },
  {
   "cell_type": "code",
   "execution_count": null,
   "id": "1952c8b0-a949-4ad8-a9cf-6073bbb6b3af",
   "metadata": {},
   "outputs": [],
   "source": []
  }
 ],
 "metadata": {
  "kernelspec": {
   "display_name": "Python 3 (ipykernel)",
   "language": "python",
   "name": "python3"
  },
  "language_info": {
   "codemirror_mode": {
    "name": "ipython",
    "version": 3
   },
   "file_extension": ".py",
   "mimetype": "text/x-python",
   "name": "python",
   "nbconvert_exporter": "python",
   "pygments_lexer": "ipython3",
   "version": "3.13.5"
  }
 },
 "nbformat": 4,
 "nbformat_minor": 5
}
